{
 "cells": [
  {
   "cell_type": "code",
   "execution_count": 29,
   "metadata": {},
   "outputs": [],
   "source": [
    "import os\n",
    "import requests\n",
    "import json\n",
    "from typing import List\n",
    "from dotenv import load_dotenv\n",
    "from bs4 import BeautifulSoup\n",
    "from IPython.display import Markdown, display, update_display\n",
    "from openai import OpenAI\n",
    "import ollama"
   ]
  },
  {
   "cell_type": "code",
   "execution_count": 30,
   "metadata": {},
   "outputs": [],
   "source": [
    "# Inicialización y constantes and constants\n",
    "\n",
    "load_dotenv()\n",
    "api_key = os.getenv('OPENAI_API_KEY')\n",
    "\n",
    "MODEL = 'gpt-4o-mini'\n",
    "openai = OpenAI()"
   ]
  },
  {
   "cell_type": "code",
   "execution_count": 31,
   "metadata": {},
   "outputs": [],
   "source": [
    "question = \"\"\" Explain what this code does and why: \n",
    "\n",
    "yield from {book.get(\"author\") for book in books if book.get(\"author\")}\"\"\""
   ]
  },
  {
   "cell_type": "code",
   "execution_count": 32,
   "metadata": {},
   "outputs": [],
   "source": [
    "# prompts\n",
    "\n",
    "system_prompt =\"You are a Python tutor who provides clear, detailed, and beginner-friendly explanations about programming, software development, data science, and advanced machine learning concepts.\"\n",
    "\n",
    "\n",
    "user_prompt = \"Can you break down and explain this code snippet step by step? \" + question"
   ]
  },
  {
   "cell_type": "code",
   "execution_count": 33,
   "metadata": {},
   "outputs": [],
   "source": [
    "# messages\n",
    "\n",
    "messages = [\n",
    "    {\"role\": \"system\", \"content\": system_prompt},\n",
    "    {\"role\": \"user\", \"content\": user_prompt}\n",
    "]"
   ]
  },
  {
   "cell_type": "code",
   "execution_count": 34,
   "metadata": {},
   "outputs": [
    {
     "data": {
      "text/markdown": [
       "Certainly! Let’s break down the code snippet step by step.\n",
       "\n",
       "### Code Snippet\n",
       "\n",
       "python\n",
       "yield from {book.get(\"author\") for book in books if book.get(\"author\")}\n",
       "\n",
       "\n",
       "### Explanation\n",
       "\n",
       "1. **Context of `yield from`**:\n",
       "    - The keyword `yield` is used in Python to make a function a generator. A generator allows you to iterate over a sequence of values without holding them all in memory at once. \n",
       "    - The `yield from` statement is a way to yield all values from an iterable (in this case, a set).\n",
       "  \n",
       "2. **Set Comprehension**:\n",
       "    - The expression `{book.get(\"author\") for book in books if book.get(\"author\")}` is a set comprehension. This is similar to a list comprehension but it creates a set.\n",
       "    - A set in Python is an unordered collection of unique elements. This means that if two books have the same author, that author will appear only once in the resulting set.\n",
       "\n",
       "3. **Breaking Down the Comprehension**:\n",
       "    - `for book in books`: This iterates over each element (which is expected to be a dictionary representing a book) in the iterable `books`. \n",
       "    - `book.get(\"author\")`: This attempts to retrieve the value associated with the key \"author\" from the `book` dictionary. The method `.get()` is used here, which is a safe way to access dictionary keys. If \"author\" doesn't exist, it simply returns `None` instead of raising a `KeyError`.\n",
       "    - `if book.get(\"author\")`: This is a filter condition that checks if the `book` has an \"author\". If `book.get(\"author\")` returns a truthy value (meaning it's not `None` or an empty string), the author will be included in the resulting set.\n",
       "\n",
       "4. **Putting It All Together**:\n",
       "    - The entire expression `{book.get(\"author\") for book in books if book.get(\"author\")}` will create a set containing all unique authors from the `books` collection, excluding any books that don't have an author.\n",
       "  \n",
       "5. **Yielding from the Set**:\n",
       "   - The `yield from` then yields each unique author from the set one at a time, allowing the caller of the generator function to iterate through them without needing to create an intermediate list.\n",
       "\n",
       "### Why Use This Code\n",
       "\n",
       "- **Efficiency**: Using a set comprehension allows us to efficiently gather unique authors in a single pass through the `books`, avoiding duplicates.\n",
       "- **Clear Logic**: The generator yields authors one by one, which means that it can handle large datasets without consuming too much memory.\n",
       "- **Safety**: Using `.get()` ensures that no errors are thrown if the \"author\" key is missing for any book, safeguarding the process.\n",
       "\n",
       "### Use Case\n",
       "\n",
       "This code snippet might be used in a library management system or a book cataloging application where you want to list unique authors from a collection of books, potentially preparing them for output, filtering, or further analysis. \n",
       "\n",
       "### Summary\n",
       "\n",
       "Overall, the code is creating a generator that yields unique authors from a list of books while safeguarding against missing authors."
      ],
      "text/plain": [
       "<IPython.core.display.Markdown object>"
      ]
     },
     "metadata": {},
     "output_type": "display_data"
    }
   ],
   "source": [
    "stream = openai.chat.completions.create(model=MODEL, messages=messages,stream=True)\n",
    "    \n",
    "response = \"\"\n",
    "display_handle = display(Markdown(\"\"), display_id=True)\n",
    "\n",
    "for chunk in stream:\n",
    "    response += chunk.choices[0].delta.content or ''\n",
    "    response = response.replace(\"```\",\"\").replace(\"markdown\", \"\")\n",
    "    update_display(Markdown(response), display_id=display_handle.display_id)"
   ]
  },
  {
   "cell_type": "code",
   "execution_count": 35,
   "metadata": {},
   "outputs": [
    {
     "data": {
      "text/markdown": [
       "**Breaking Down the Code**\n",
       "\n",
       "The given code snippet uses a combination of Python features, including generators (`yield`), dictionary iteration (`{...}`), list comprehensions (`[...]`), and conditional statements (`if`). Let's break it down step by step:\n",
       "\n",
       "### 1. `yield from {book.get(\"author\") for book in books if book.get(\"author\")}`\n",
       "\n",
       "*   `yield from`: This keyword is used to yield values from a sub-generator or iterator.\n",
       "*   `{...}`: The dictionary comprehension is iterating over the keys of an object (in this case, likely a dictionary) that contain certain data.\n",
       "\n",
       "### 2. Dictionary Comprehension (`{book.get(\"author\") for book in books if book.get(\"author\")}`)\n",
       "\n",
       "*   `for book in books`: This is looping through each item (dictionary or list, depending on the context) in the `books` collection.\n",
       "*   `if book.get(\"author\")`: This is applying a condition to filter out items that don't contain an \"author\" key.\n",
       "\n",
       "### 3. Generator Expression (`book.get(\"author\") for book in books if book.get(\"author\")`)\n",
       "\n",
       "*   The expression generates values (the author's name) from each dictionary item that passes the conditional check.\n",
       "*   These generated values are the potential authors of books, and they can be used to create a collection of authors.\n",
       "\n",
       "### 4. `yield from`\n",
       "\n",
       "*   When used with the generator expression above, this keyword is essentially saying \"yield all values from this sub-generator\" instead of having to manually use another loop or conditional statement.\n",
       "*   The `yield from` syntax allows for more readable and concise code when working with complex generators.\n",
       "\n",
       "### Why This Code Snippet Works\n",
       "\n",
       "This code snippet works by first filtering the `books` collection based on whether each book has an \"author\" key. It then uses a dictionary comprehension to extract these authors' names, making sure that only valid data is processed. \n",
       "\n",
       "The purpose of this code seems to be retrieving the list of authors from a collection of books and returning them in some form, probably for later processing or display.\n",
       "\n",
       "### Example Use Case\n",
       "\n",
       "Let's consider an example of using this code snippet with a simple `books` dictionary:\n",
       "\n",
       "```python\n",
       "# Define books as a dictionary\n",
       "books = {\n",
       "    \"book1\": {\"title\": \"Book 1\", \"author\": \"John Doe\"},\n",
       "    \"book2\": {\"title\": \"Book 2\", \"author\": None},  # No author for this book\n",
       "    \"book3\": {\"title\": \"Book 3\", \"author\": \"Jane Doe\"}\n",
       "}\n",
       "\n",
       "# Use the code snippet to get authors\n",
       "authors = yield from {book.get(\"author\") for book in books if book.get(\"author\")}\n",
       "print(authors)  # Output: ['John Doe', 'Jane Doe']\n",
       "```\n",
       "\n",
       "In this case, only `book1` and `book3` are used because they have an \"author\" key present."
      ],
      "text/plain": [
       "<IPython.core.display.Markdown object>"
      ]
     },
     "metadata": {},
     "output_type": "display_data"
    }
   ],
   "source": [
    "# Haz que Llama 3.2 responda\n",
    "MODEL_LLAMA = 'llama3.2'\n",
    "\n",
    "response = ollama.chat(model=MODEL_LLAMA, messages=messages)\n",
    "reply = response['message']['content']\n",
    "display(Markdown(reply))"
   ]
  }
 ],
 "metadata": {
  "kernelspec": {
   "display_name": "llms",
   "language": "python",
   "name": "python3"
  },
  "language_info": {
   "codemirror_mode": {
    "name": "ipython",
    "version": 3
   },
   "file_extension": ".py",
   "mimetype": "text/x-python",
   "name": "python",
   "nbconvert_exporter": "python",
   "pygments_lexer": "ipython3",
   "version": "3.11.11"
  }
 },
 "nbformat": 4,
 "nbformat_minor": 2
}
