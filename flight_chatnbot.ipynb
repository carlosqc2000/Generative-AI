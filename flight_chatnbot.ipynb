{
 "cells": [
  {
   "cell_type": "code",
   "execution_count": null,
   "metadata": {},
   "outputs": [
    {
     "name": "stdout",
     "output_type": "stream",
     "text": [
      "* Running on local URL:  http://127.0.0.1:7867\n",
      "\n",
      "To create a public link, set `share=True` in `launch()`.\n"
     ]
    },
    {
     "data": {
      "text/html": [
       "<div><iframe src=\"http://127.0.0.1:7867/\" width=\"100%\" height=\"500\" allow=\"autoplay; camera; microphone; clipboard-read; clipboard-write;\" frameborder=\"0\" allowfullscreen></iframe></div>"
      ],
      "text/plain": [
       "<IPython.core.display.HTML object>"
      ]
     },
     "metadata": {},
     "output_type": "display_data"
    }
   ],
   "source": [
    "import os\n",
    "import json\n",
    "import gradio as gr\n",
    "from openai import OpenAI\n",
    "from dotenv import load_dotenv\n",
    "import re\n",
    "\n",
    "# Cargar variables de entorno\n",
    "load_dotenv()\n",
    "\n",
    "# Obtener API Key de OpenAI\n",
    "OPENAI_API_KEY = os.getenv(\"OPENAI_API_KEY\")\n",
    "openai_client = OpenAI(api_key=OPENAI_API_KEY)\n",
    "\n",
    "# Archivo JSON donde guardamos las reservas\n",
    "RESERVATION_FILE = \"reservations.json\"\n",
    "\n",
    "# Base de datos de vuelos\n",
    "air_flights = {\n",
    "    \"londres\": {\"price\": \"$799\", \"origin\": \"JFK (New York)\", \"departure_time\": \"10:30 AM\", \"date\": \"2025-02-15\"},\n",
    "    \"parís\": {\"price\": \"$899\", \"origin\": \"LAX (Los Angeles)\", \"departure_time\": \"3:00 PM\", \"date\": \"2025-02-16\"},\n",
    "    \"tokyo\": {\"price\": \"$1400\", \"origin\": \"ORD (Chicago)\", \"departure_time\": \"6:45 PM\", \"date\": \"2025-02-17\"},\n",
    "    \"berlín\": {\"price\": \"$499\", \"origin\": \"ATL (Atlanta)\", \"departure_time\": \"8:20 AM\", \"date\": \"2025-02-18\"}\n",
    "}\n",
    "\n",
    "# Funciones para manejar las reservas en JSON\n",
    "def load_reservations():\n",
    "    if not os.path.exists(RESERVATION_FILE):\n",
    "        return {}\n",
    "    with open(RESERVATION_FILE, \"r\", encoding=\"utf-8\") as file:\n",
    "        return json.load(file)\n",
    "\n",
    "def save_reservation(username, destination):\n",
    "    reservations = load_reservations()\n",
    "    username = username.capitalize()\n",
    "\n",
    "    if username not in reservations:\n",
    "        reservations[username] = []\n",
    "\n",
    "    flight_info = air_flights.get(destination.lower())\n",
    "    if not flight_info:\n",
    "        return \"⚠️ No hay vuelos disponibles para ese destino.\"\n",
    "\n",
    "    # Verificar si el usuario ya tiene una reserva para ese destino\n",
    "    for ticket in reservations[username]:\n",
    "        if ticket[\"destination\"] == destination.capitalize():\n",
    "            return f\"🔔 {username}, ya tienes un billete reservado para {destination.capitalize()}.\"\n",
    "\n",
    "    # Crear la nueva reserva\n",
    "    new_ticket = {\n",
    "        \"destination\": destination.capitalize(),\n",
    "        \"origin\": flight_info[\"origin\"],\n",
    "        \"departure_time\": flight_info[\"departure_time\"],\n",
    "        \"date\": flight_info[\"date\"],\n",
    "        \"price\": flight_info[\"price\"]\n",
    "    }\n",
    "    reservations[username].append(new_ticket)\n",
    "\n",
    "    # Sobrescribir el archivo JSON con los datos actualizados\n",
    "    try:\n",
    "        with open(RESERVATION_FILE, \"w\", encoding=\"utf-8\") as file:\n",
    "            json.dump(reservations, file, indent=4, ensure_ascii=False)\n",
    "        print(f\"[DEBUG] Nueva reserva guardada en JSON: {json.dumps(new_ticket, indent=4)}\")\n",
    "    except Exception as e:\n",
    "        print(f\"[ERROR] No se pudo guardar la reserva: {e}\")\n",
    "\n",
    "    return (f\"✅ {username}, tu reserva ha sido confirmada.\\n\"\n",
    "            f\"✈️ {new_ticket['origin']} → {new_ticket['destination']}\\n\"\n",
    "            f\"📅 {new_ticket['date']} 🕒 {new_ticket['departure_time']}\\n\"\n",
    "            f\"💰 {new_ticket['price']}\")\n",
    "\n",
    "def extract_name_and_destination(message):\n",
    "    words = message.lower().split()\n",
    "    username, destination = None, None\n",
    "\n",
    "    for word in words:\n",
    "        if word in air_flights:\n",
    "            destination = word.capitalize()\n",
    "\n",
    "    match = re.search(r\"(?:soy|me llamo|mi nombre es)\\s+(\\w+)\", message.lower())\n",
    "    if match:\n",
    "        username = match.group(1).capitalize()\n",
    "\n",
    "    return username, destination\n",
    "\n",
    "def show_flights():\n",
    "    response = \"✈️ **Vuelos disponibles:**\\n\"\n",
    "    for city, info in air_flights.items():\n",
    "        response += (f\"- **{info['origin']} → {city.capitalize()}**\\n\"\n",
    "                     f\"  📅 {info['date']} 🕒 {info['departure_time']} 💰 {info['price']}\\n\")\n",
    "    print(\"[DEBUG] Mostrando vuelos disponibles\")\n",
    "    return response\n",
    "\n",
    "def chat_with_openai(message, history):\n",
    "    print(f\"[DEBUG] Mensaje recibido: {message}\")\n",
    "    reservations = load_reservations()\n",
    "    username, destination = extract_name_and_destination(message)\n",
    "    \n",
    "    if username and destination:\n",
    "        return save_reservation(username, destination)\n",
    "    elif destination:\n",
    "        return f\"✈️ Veo que quieres viajar a {destination}. ¿Cuál es tu nombre para completar la reserva?\"\n",
    "    elif username:\n",
    "        return f\"✈️ Hola {username}! Por favor dime a qué ciudad quieres viajar.\"\n",
    "\n",
    "    system_prompt = (\n",
    "        \"Eres un chatbot que maneja reservas de vuelos. Solo puedes realizar las siguientes acciones:\\n\"\n",
    "        \"- Mostrar los vuelos disponibles si el usuario lo solicita.\\n\"\n",
    "        \"- Reservar un vuelo cuando el usuario mencione una ciudad y su nombre.\\n\"\n",
    "        \"- Consultar las reservas de un usuario si lo solicita.\\n\"\n",
    "        \"- Saludar si el usuario te saluda.\\n\"\n",
    "        \"IMPORTANTE: Para consultar reservas, responde usando get_reservation(username). NO inventes respuestas.\")\n",
    "\n",
    "    messages = [{\"role\": \"system\", \"content\": system_prompt}] + history + [{\"role\": \"user\", \"content\": message}]\n",
    "    \n",
    "    response = openai_client.chat.completions.create(\n",
    "        model=\"gpt-4o\",\n",
    "        messages=messages\n",
    "    )\n",
    "\n",
    "    bot_response = response.choices[0].message.content.lower()\n",
    "    print(f\"[DEBUG] Respuesta de OpenAI: {bot_response}\")\n",
    "    \n",
    "    if \"vuelos disponibles\" in bot_response:\n",
    "        return show_flights()\n",
    "    \n",
    "    return bot_response\n",
    "\n",
    "# Interfaz en Gradio\n",
    "with gr.Blocks() as app:\n",
    "    gr.Markdown(\"## ✈️ Chatbot FlightAI - Reservas de Billetes\")\n",
    "    chat_interface = gr.ChatInterface(fn=chat_with_openai, type=\"messages\")\n",
    "    app.launch()"
   ]
  },
  {
   "cell_type": "code",
   "execution_count": 9,
   "metadata": {},
   "outputs": [
    {
     "name": "stdout",
     "output_type": "stream",
     "text": [
      "[TEST] Cargando reservas desde JSON...\n",
      "{\n",
      "    \"Carlos\": [\n",
      "        {\n",
      "            \"destination\": \"Tokio\",\n",
      "            \"origin\": \"ORD (Chicago)\",\n",
      "            \"departure_time\": \"6:45 PM\",\n",
      "            \"date\": \"2025-02-17\",\n",
      "            \"price\": \"$1400\"\n",
      "        },\n",
      "        {\n",
      "            \"destination\": \"Berlín\",\n",
      "            \"origin\": \"ATL (Atlanta)\",\n",
      "            \"departure_time\": \"8:20 AM\",\n",
      "            \"date\": \"2025-02-18\",\n",
      "            \"price\": \"$499\"\n",
      "        }\n",
      "    ],\n",
      "    \"Juan\": [\n",
      "        {\n",
      "            \"destination\": \"Berlín\",\n",
      "            \"origin\": \"ATL (Atlanta)\",\n",
      "            \"departure_time\": \"8:20 AM\",\n",
      "            \"date\": \"2025-02-18\",\n",
      "            \"price\": \"$499\"\n",
      "        }\n",
      "    ]\n",
      "}\n"
     ]
    }
   ],
   "source": [
    "def test_load_reservations():\n",
    "    reservations = load_reservations()\n",
    "    print(\"[TEST] Cargando reservas desde JSON...\")\n",
    "    print(json.dumps(reservations, indent=4, ensure_ascii=False))\n",
    "\n",
    "test_load_reservations()"
   ]
  },
  {
   "cell_type": "code",
   "execution_count": 13,
   "metadata": {},
   "outputs": [
    {
     "name": "stdout",
     "output_type": "stream",
     "text": [
      "[TEST] Guardando reserva para 'Carlos' a 'París'...\n",
      "[DEBUG] Nueva reserva guardada en JSON para Carlos: {\n",
      "    \"destination\": \"Par\\u00eds\",\n",
      "    \"origin\": \"LAX (Los Angeles)\",\n",
      "    \"departure_time\": \"3:00 PM\",\n",
      "    \"date\": \"2025-02-16\",\n",
      "    \"price\": \"$899\"\n",
      "}\n",
      "✅ Carlos, tu reserva ha sido confirmada.\n",
      "✈️ LAX (Los Angeles) → París\n",
      "📅 2025-02-16 🕒 3:00 PM\n",
      "💰 $899\n"
     ]
    }
   ],
   "source": [
    "def test_save_reservation():\n",
    "    print(\"[TEST] Guardando reserva para 'Carlos' a 'París'...\")\n",
    "    response = save_reservation(\"Carlos\", \"París\")\n",
    "    print(response)\n",
    "\n",
    "test_save_reservation()"
   ]
  },
  {
   "cell_type": "code",
   "execution_count": 21,
   "metadata": {},
   "outputs": [
    {
     "name": "stdout",
     "output_type": "stream",
     "text": [
      "[TEST] Mensaje: 'Quiero viajar a Londres, me llamo Juan' → Usuario: Juan, Destino: None\n",
      "[TEST] Mensaje: 'Hola, soy Ana y quiero un vuelo a París' → Usuario: Ana, Destino: París\n",
      "[TEST] Mensaje: 'Mi nombre es Pedro y quiero ir a Tokio' → Usuario: Pedro, Destino: None\n",
      "[TEST] Mensaje: 'Quiero un vuelo a Berlín' → Usuario: None, Destino: Berlín\n"
     ]
    }
   ],
   "source": [
    "def test_extract_name_destination():\n",
    "    messages = [\n",
    "        \"Quiero viajar a Londres, me llamo Juan\",\n",
    "        \"Hola, soy Ana y quiero un vuelo a París\",\n",
    "        \"Mi nombre es Pedro y quiero ir a Tokio\",\n",
    "        \"Quiero un vuelo a Berlín\"\n",
    "    ]\n",
    "    \n",
    "    for msg in messages:\n",
    "        username, destination = extract_name_and_destination(msg)\n",
    "        print(f\"[TEST] Mensaje: '{msg}' → Usuario: {username}, Destino: {destination}\")\n",
    "\n",
    "test_extract_name_destination()\n"
   ]
  },
  {
   "cell_type": "code",
   "execution_count": 22,
   "metadata": {},
   "outputs": [
    {
     "name": "stdout",
     "output_type": "stream",
     "text": [
      "[TEST] Usuario: Quiero un vuelo a París, soy Luis\n",
      "[DEBUG] Mensaje recibido: Quiero un vuelo a París, soy Luis\n",
      "[TEST] Chatbot: ✈️ Hola Luis! Por favor dime a qué ciudad quieres viajar.\n",
      "[TEST] Usuario: Mi nombre es María y quiero viajar a Tokio\n",
      "[DEBUG] Mensaje recibido: Mi nombre es María y quiero viajar a Tokio\n",
      "[TEST] Chatbot: ✈️ Hola María! Por favor dime a qué ciudad quieres viajar.\n",
      "[TEST] Usuario: Quiero viajar a Berlín\n",
      "[DEBUG] Mensaje recibido: Quiero viajar a Berlín\n",
      "[TEST] Chatbot: ✈️ Veo que quieres viajar a Berlín. ¿Cuál es tu nombre para completar la reserva?\n"
     ]
    },
    {
     "name": "stdout",
     "output_type": "stream",
     "text": [
      "[DEBUG] Mensaje recibido: hola\n",
      "[DEBUG] Respuesta de OpenAI: ¡hola! ¿en qué puedo ayudarte hoy?\n",
      "[DEBUG] Mensaje recibido: Quiero consultar unas reservas ya confirmadas\n",
      "[DEBUG] Respuesta de OpenAI: lo siento, no tengo acceso a información sobre reservas ya confirmadas. pero puedo ayudarte a realizar una nueva reserva o mostrarte los vuelos disponibles. ¿te gustaría hacer alguna de estas acciones?\n",
      "[DEBUG] Mostrando vuelos disponibles\n"
     ]
    }
   ],
   "source": [
    "def test_chatbot():\n",
    "    messages = [\n",
    "        \"Quiero un vuelo a París, soy Luis\",\n",
    "        \"Mi nombre es María y quiero viajar a Tokio\",\n",
    "        \"Quiero viajar a Berlín\"\n",
    "    ]\n",
    "\n",
    "    history = []\n",
    "    for msg in messages:\n",
    "        print(f\"[TEST] Usuario: {msg}\")\n",
    "        response = chat_with_openai(msg, history)\n",
    "        print(f\"[TEST] Chatbot: {response}\")\n",
    "        history.append({\"role\": \"user\", \"content\": msg})\n",
    "        history.append({\"role\": \"assistant\", \"content\": response})\n",
    "\n",
    "test_chatbot()\n"
   ]
  }
 ],
 "metadata": {
  "kernelspec": {
   "display_name": "llms",
   "language": "python",
   "name": "python3"
  },
  "language_info": {
   "codemirror_mode": {
    "name": "ipython",
    "version": 3
   },
   "file_extension": ".py",
   "mimetype": "text/x-python",
   "name": "python",
   "nbconvert_exporter": "python",
   "pygments_lexer": "ipython3",
   "version": "3.11.11"
  }
 },
 "nbformat": 4,
 "nbformat_minor": 2
}
